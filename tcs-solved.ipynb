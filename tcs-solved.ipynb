{
 "cells": [
  {
   "cell_type": "markdown",
   "id": "collected-bryan",
   "metadata": {},
   "source": [
    "## 1. Adding One"
   ]
  },
  {
   "cell_type": "markdown",
   "id": "secure-constitution",
   "metadata": {},
   "source": [
    "Given a non-negative integer(without leading zeroes) represented as an array A of N digits. Your task is to add 1 to the number (increment the number by 1). The digits are stored such that the most significant digit is at the starting index of the array.\n",
    "\n",
    "Example 1:\n",
    "\n",
    "```\n",
    "Input:\n",
    "N = 4\n",
    "A[] = {5, 6, 7, 8}\n",
    "Output: 5 6 7 9\n",
    "Explanation: 5678 + 1 = 5679\n",
    "```\n",
    "\n",
    "Example 2:\n",
    "\n",
    "```\n",
    "Input:\n",
    "N = 3\n",
    "A[] = {9, 9, 9}\n",
    "Output: 1 0 0 0\n",
    "Explanation: 999 + 1 = 1000\n",
    "```\n",
    "**Your Task:**\n",
    "You don't need to read input or print anything. Your task is to complete the function addOne() which takes the array of integers a and n as parameters and returns an list of integers denoting the answer.\n",
    "\n",
    " \n",
    "\n",
    "Expected Time Complexity: O(N)\n",
    "Expected Auxiliary Space: O(N) for the list of integers used to store the returning result. \n",
    "\n",
    "Constraints:\n",
    "```\n",
    "1 ≤ N ≤ 105\n",
    "0 ≤ A[i] ≤ 9\n",
    "```\n",
    "There are no leading zeros in the input number. "
   ]
  },
  {
   "cell_type": "code",
   "execution_count": 16,
   "id": "resistant-lunch",
   "metadata": {},
   "outputs": [],
   "source": [
    "def addOne(A, N):\n",
    "    # initialize a carry value\n",
    "    carry = 1\n",
    "    \n",
    "    # iterate through the list\n",
    "    # from end - in reverse\n",
    "    # N-1, N-2, N-3, .... 0\n",
    "    # N = 4\n",
    "    # 3, 2, 1, 0 -> i\n",
    "    for i in range(N-1, -1, -1):\n",
    "        # A[i]\n",
    "        A[i] = A[i] + carry\n",
    "        if A[i]>9:\n",
    "            A[i] = 0\n",
    "            carry = 1\n",
    "        else:\n",
    "            carry = 0\n",
    "    if carry == 1:\n",
    "        A.insert(0,1)\n",
    "    print(A)\n",
    "        "
   ]
  },
  {
   "cell_type": "code",
   "execution_count": 26,
   "id": "painful-level",
   "metadata": {},
   "outputs": [
    {
     "name": "stdout",
     "output_type": "stream",
     "text": [
      "[1, 0, 0, 0, 0, 0]\n"
     ]
    }
   ],
   "source": [
    "N = 5\n",
    "A = [9,9,9,9,9]\n",
    "addOne(A,N)"
   ]
  },
  {
   "cell_type": "markdown",
   "id": "textile-fourth",
   "metadata": {},
   "source": [
    "## 2.Maximum Occuring Character "
   ]
  },
  {
   "cell_type": "markdown",
   "id": "controlling-diesel",
   "metadata": {},
   "source": [
    "Given a string str. The task is to find the maximum occurring character in the string str. If more than one character occurs the maximum number of time then print the lexicographically smaller character.\n",
    "\n",
    "Example 1:\n",
    "```\n",
    "Input:\n",
    "\n",
    "str = testsample   \n",
    "\n",
    "Output: e   \n",
    "\n",
    "Explanation: e is the character which is having the highest frequency.\n",
    "```\n",
    "\n",
    "Example 2:\n",
    "```\n",
    "Input:\n",
    "\n",
    "str = output\n",
    "\n",
    "Output: t\n",
    "\n",
    "Explanation:  t and u are the characters with the same frequency, but t is lexicographically smaller.\n",
    "```\n",
    "\n",
    "**Your Task:**\n",
    "\n",
    "The task is to complete the function getMaxOccuringChar() which returns the character which is most occurring.\n",
    "\n",
    "Expected Time Complexity: O(N).\n",
    "Expected Auxiliary Space: O(Number of distinct characters).\n",
    "Note: N = |s|\n",
    "\n",
    "Constraints:\n",
    "```\n",
    "1 ≤ |s| ≤ 100\n",
    "```"
   ]
  },
  {
   "cell_type": "code",
   "execution_count": 27,
   "id": "short-longitude",
   "metadata": {},
   "outputs": [],
   "source": [
    "d = {}\n",
    "d['t'] = 0"
   ]
  },
  {
   "cell_type": "code",
   "execution_count": 32,
   "id": "separated-bahamas",
   "metadata": {},
   "outputs": [],
   "source": [
    "d['t'] = d['t'] + 1"
   ]
  },
  {
   "cell_type": "code",
   "execution_count": 33,
   "id": "suspected-oxygen",
   "metadata": {},
   "outputs": [
    {
     "data": {
      "text/plain": [
       "{'t': 3}"
      ]
     },
     "execution_count": 33,
     "metadata": {},
     "output_type": "execute_result"
    }
   ],
   "source": [
    "d"
   ]
  },
  {
   "cell_type": "code",
   "execution_count": 34,
   "id": "damaged-geology",
   "metadata": {},
   "outputs": [
    {
     "data": {
      "text/plain": [
       "{'a', 'e', 'l', 'm', 'p', 's', 't'}"
      ]
     },
     "execution_count": 34,
     "metadata": {},
     "output_type": "execute_result"
    }
   ],
   "source": [
    "# datastructure called sets\n",
    "# set -> store unique set of values\n",
    "s = 'testsample'\n",
    "set(s)"
   ]
  },
  {
   "cell_type": "code",
   "execution_count": 35,
   "id": "dietary-anxiety",
   "metadata": {},
   "outputs": [
    {
     "data": {
      "text/plain": [
       "2"
      ]
     },
     "execution_count": 35,
     "metadata": {},
     "output_type": "execute_result"
    }
   ],
   "source": [
    "s.count('t')"
   ]
  },
  {
   "cell_type": "code",
   "execution_count": 70,
   "id": "virgin-warehouse",
   "metadata": {},
   "outputs": [],
   "source": [
    "def getMaxOccuringChar(s):\n",
    "    mx = 0\n",
    "    mxi = s.count(s[mx])\n",
    "    \n",
    "    # we have to find the most occured character\n",
    "    # we need all the frequencies of all the characters in our string\n",
    "    \n",
    "    # create a dictionary to store the counts\n",
    "    d = {}\n",
    "    \n",
    "    for i in set(s):\n",
    "        d[i] = s.count(i)\n",
    "        \n",
    "    for key in sorted(d.keys()):\n",
    "        if d[key] > mx:\n",
    "            mx = d[key]\n",
    "            mxi = key\n",
    "    print(mx, mxi)\n",
    "    \n",
    "    "
   ]
  },
  {
   "cell_type": "code",
   "execution_count": 74,
   "id": "incorrect-generator",
   "metadata": {},
   "outputs": [
    {
     "name": "stdout",
     "output_type": "stream",
     "text": [
      "1 h\n"
     ]
    }
   ],
   "source": [
    "s = 'python'\n",
    "getMaxOccuringChar(s)"
   ]
  },
  {
   "cell_type": "markdown",
   "id": "dimensional-sheet",
   "metadata": {},
   "source": [
    "## 3. Number of Unique Paths"
   ]
  },
  {
   "cell_type": "markdown",
   "id": "dressed-walnut",
   "metadata": {},
   "source": [
    "Given a A X B matrix with your initial position at the top-left cell, find the number of possible unique paths to reach the bottom-right cell of the matrix from the initial position.\n",
    "\n",
    "Note: Possible moves can be either down or right at any point in time, i.e., we can move to matrix[i+1][j] or matrix[i][j+1] from matrix[i][j].\n",
    "\n",
    "Example 1:\n",
    "```\n",
    "Input:\n",
    "A = 2, B = 2\n",
    "Output: 2\n",
    "Explanation: There are only two unique\n",
    "paths to reach the end of the matrix of\n",
    "size two from the starting cell of the\n",
    "matrix.\n",
    "```\n",
    "Example 2:\n",
    "```\n",
    "Input:\n",
    "A = 3, B = 4\n",
    "Output: 10\n",
    "Explanation: There are only 10 unique\n",
    "paths to reach the end of the matrix of\n",
    "size two from the starting cell of the\n",
    "matrix.\n",
    "```\n",
    "Your Task:\n",
    "Complete NumberOfPath() function which takes 2 arguments(A and B) and returns the number of unique paths from top-left to the bottom-right cell.\n",
    "\n",
    "Expected Time Complexity: O(A*B).\n",
    "Expected Auxiliary Space: O(A*B).\n",
    "\n",
    "Constraints:\n",
    "```\n",
    "1 ≤ A ≤ 15\n",
    "1 ≤ B ≤ 15\n",
    "```"
   ]
  },
  {
   "cell_type": "code",
   "execution_count": null,
   "id": "foreign-miniature",
   "metadata": {},
   "outputs": [],
   "source": []
  }
 ],
 "metadata": {
  "kernelspec": {
   "display_name": "Python 3",
   "language": "python",
   "name": "python3"
  },
  "language_info": {
   "codemirror_mode": {
    "name": "ipython",
    "version": 3
   },
   "file_extension": ".py",
   "mimetype": "text/x-python",
   "name": "python",
   "nbconvert_exporter": "python",
   "pygments_lexer": "ipython3",
   "version": "3.8.5"
  }
 },
 "nbformat": 4,
 "nbformat_minor": 5
}
