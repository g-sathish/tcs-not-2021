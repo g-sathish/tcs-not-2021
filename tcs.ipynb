{
 "cells": [
  {
   "cell_type": "markdown",
   "id": "naked-holly",
   "metadata": {},
   "source": [
    "## 1. Adding One"
   ]
  },
  {
   "cell_type": "markdown",
   "id": "detected-evanescence",
   "metadata": {},
   "source": [
    "Given a non-negative integer(without leading zeroes) represented as an array A of N digits. Your task is to add 1 to the number (increment the number by 1). The digits are stored such that the most significant digit is at the starting index of the array.\n",
    "\n",
    "Example 1:\n",
    "\n",
    "```\n",
    "Input:\n",
    "N = 4\n",
    "A[] = {5, 6, 7, 8}\n",
    "Output: 5 6 7 9\n",
    "Explanation: 5678 + 1 = 5679\n",
    "```\n",
    "\n",
    "Example 2:\n",
    "\n",
    "```\n",
    "Input:\n",
    "N = 3\n",
    "A[] = {9, 9, 9}\n",
    "Output: 1 0 0 0\n",
    "Explanation: 999 + 1 = 1000\n",
    "```\n",
    "**Your Task:**\n",
    "You don't need to read input or print anything. Your task is to complete the function addOne() which takes the array of integers a and n as parameters and returns an list of integers denoting the answer.\n",
    "\n",
    " \n",
    "\n",
    "Expected Time Complexity: O(N)\n",
    "Expected Auxiliary Space: O(N) for the list of integers used to store the returning result. \n",
    "\n",
    "Constraints:\n",
    "```\n",
    "1 ≤ N ≤ 105\n",
    "0 ≤ A[i] ≤ 9\n",
    "```\n",
    "There are no leading zeros in the input number. "
   ]
  },
  {
   "cell_type": "code",
   "execution_count": null,
   "id": "attached-antigua",
   "metadata": {},
   "outputs": [],
   "source": []
  },
  {
   "cell_type": "markdown",
   "id": "steady-samba",
   "metadata": {},
   "source": [
    "## 2.Maximum Occuring Character "
   ]
  },
  {
   "cell_type": "markdown",
   "id": "bizarre-wagon",
   "metadata": {},
   "source": [
    "Given a string str. The task is to find the maximum occurring character in the string str. If more than one character occurs the maximum number of time then print the lexicographically smaller character.\n",
    "\n",
    "Example 1:\n",
    "```\n",
    "Input:\n",
    "\n",
    "str = testsample   \n",
    "\n",
    "Output: e   \n",
    "\n",
    "Explanation: e is the character which is having the highest frequency.\n",
    "```\n",
    "\n",
    "Example 2:\n",
    "```\n",
    "Input:\n",
    "\n",
    "str = output\n",
    "\n",
    "Output: t\n",
    "\n",
    "Explanation:  t and u are the characters with the same frequency, but t is lexicographically smaller.\n",
    "```\n",
    "\n",
    "**Your Task:**\n",
    "\n",
    "The task is to complete the function getMaxOccuringChar() which returns the character which is most occurring.\n",
    "\n",
    "Expected Time Complexity: O(N).\n",
    "Expected Auxiliary Space: O(Number of distinct characters).\n",
    "Note: N = |s|\n",
    "\n",
    "Constraints:\n",
    "```\n",
    "1 ≤ |s| ≤ 100\n",
    "```"
   ]
  },
  {
   "cell_type": "code",
   "execution_count": null,
   "id": "spanish-relations",
   "metadata": {},
   "outputs": [],
   "source": []
  },
  {
   "cell_type": "markdown",
   "id": "composite-enforcement",
   "metadata": {},
   "source": [
    "## 3. Number of Unique Paths"
   ]
  },
  {
   "cell_type": "markdown",
   "id": "trained-latin",
   "metadata": {},
   "source": [
    "Given a A X B matrix with your initial position at the top-left cell, find the number of possible unique paths to reach the bottom-right cell of the matrix from the initial position.\n",
    "\n",
    "Note: Possible moves can be either down or right at any point in time, i.e., we can move to matrix[i+1][j] or matrix[i][j+1] from matrix[i][j].\n",
    "\n",
    "Example 1:\n",
    "```\n",
    "Input:\n",
    "A = 2, B = 2\n",
    "Output: 2\n",
    "Explanation: There are only two unique\n",
    "paths to reach the end of the matrix of\n",
    "size two from the starting cell of the\n",
    "matrix.\n",
    "```\n",
    "Example 2:\n",
    "```\n",
    "Input:\n",
    "A = 3, B = 4\n",
    "Output: 10\n",
    "Explanation: There are only 10 unique\n",
    "paths to reach the end of the matrix of\n",
    "size two from the starting cell of the\n",
    "matrix.\n",
    "```\n",
    "Your Task:\n",
    "Complete NumberOfPath() function which takes 2 arguments(A and B) and returns the number of unique paths from top-left to the bottom-right cell.\n",
    "\n",
    "Expected Time Complexity: O(A*B).\n",
    "Expected Auxiliary Space: O(A*B).\n",
    "\n",
    "Constraints:\n",
    "```\n",
    "1 ≤ A ≤ 15\n",
    "1 ≤ B ≤ 15\n",
    "```"
   ]
  },
  {
   "cell_type": "code",
   "execution_count": null,
   "id": "binary-first",
   "metadata": {},
   "outputs": [],
   "source": []
  }
 ],
 "metadata": {
  "kernelspec": {
   "display_name": "Python 3",
   "language": "python",
   "name": "python3"
  },
  "language_info": {
   "codemirror_mode": {
    "name": "ipython",
    "version": 3
   },
   "file_extension": ".py",
   "mimetype": "text/x-python",
   "name": "python",
   "nbconvert_exporter": "python",
   "pygments_lexer": "ipython3",
   "version": "3.8.5"
  }
 },
 "nbformat": 4,
 "nbformat_minor": 5
}
